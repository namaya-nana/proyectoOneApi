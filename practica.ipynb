{
 "cells": [
  {
   "cell_type": "code",
   "execution_count": 7,
   "id": "61864f11-78a0-44ed-9d55-37cedf2b36c0",
   "metadata": {},
   "outputs": [
    {
     "name": "stdout",
     "output_type": "stream",
     "text": [
      "## u0068f821c48e34a98dc6c80a500121f Se está compilando multiplicación de matrices en paralelo- 1 of 7 gpu_practice.cpp\n",
      "Usando dispositivo: Intel(R) Data Center GPU Max 1100\n",
      "Tiempo de ejecución secuencial: 1.75e-07 segundos.\n",
      "Tiempo de ejecución paralelo (SYCL): 0.100902 segundos.\n",
      "Resultado de la multiplicación paralela (SYCL):\n",
      "8 8 8 8 \n",
      "8 8 8 8 \n",
      "8 8 8 8 \n",
      "8 8 8 8 \n"
     ]
    }
   ],
   "source": [
    "! chmod 755 q; chmod 755 run_gpu.sh;if [ -x \"$(command -v qsub)\" ]; then ./q run_gpu.sh; else ./run_gpu.sh; fi"
   ]
  },
  {
   "cell_type": "code",
   "execution_count": 8,
   "id": "cee112e5-3929-43b5-aebd-5662b1c76f13",
   "metadata": {},
   "outputs": [
    {
     "name": "stdout",
     "output_type": "stream",
     "text": [
      "## u0068f821c48e34a98dc6c80a500121f Se está compilando multiplicación de matrices en paralelo- 1 of 7 gpu_practice.cpp\n",
      "Usando dispositivo: Intel(R) Data Center GPU Max 1100\n",
      "Tiempo de ejecución secuencial: 2.24e-07 segundos.\n",
      "Tiempo de ejecución paralelo (SYCL): 0.099583 segundos.\n",
      "Resultado de la multiplicación paralela (SYCL):\n",
      "8 8 8 8 \n",
      "8 8 8 8 \n",
      "8 8 8 8 \n",
      "8 8 8 8 \n"
     ]
    }
   ],
   "source": [
    "!./run_gpu.sh"
   ]
  },
  {
   "cell_type": "code",
   "execution_count": 9,
   "id": "50636e05-014e-41f5-aa1b-bac2d11d0a73",
   "metadata": {},
   "outputs": [
    {
     "name": "stdout",
     "output_type": "stream",
     "text": [
      "git version 2.34.1\n"
     ]
    }
   ],
   "source": [
    "!git --version"
   ]
  },
  {
   "cell_type": "code",
   "execution_count": 12,
   "id": "93a52e06-b1a5-42b5-b941-ffc8bc515f89",
   "metadata": {},
   "outputs": [],
   "source": [
    "!git config --global user.name \"namaya-nana\"\n",
    "!git config --global user.email \"anahiamayavera@gmail.com\""
   ]
  },
  {
   "cell_type": "code",
   "execution_count": 13,
   "id": "19e3e643-3c14-4051-bf9f-3f27e428f01c",
   "metadata": {},
   "outputs": [
    {
     "name": "stdout",
     "output_type": "stream",
     "text": [
      "\u001b[33mhint: Using 'master' as the name for the initial branch. This default branch name\u001b[m\n",
      "\u001b[33mhint: is subject to change. To configure the initial branch name to use in all\u001b[m\n",
      "\u001b[33mhint: of your new repositories, which will suppress this warning, call:\u001b[m\n",
      "\u001b[33mhint: \u001b[m\n",
      "\u001b[33mhint: \tgit config --global init.defaultBranch <name>\u001b[m\n",
      "\u001b[33mhint: \u001b[m\n",
      "\u001b[33mhint: Names commonly chosen instead of 'master' are 'main', 'trunk' and\u001b[m\n",
      "\u001b[33mhint: 'development'. The just-created branch can be renamed via this command:\u001b[m\n",
      "\u001b[33mhint: \u001b[m\n",
      "\u001b[33mhint: \tgit branch -m <name>\u001b[m\n",
      "Initialized empty Git repository in /home/u0068f821c48e34a98dc6c80a500121f/Arquitectura2/.git/\n"
     ]
    }
   ],
   "source": [
    "!git init"
   ]
  },
  {
   "cell_type": "code",
   "execution_count": 14,
   "id": "5a866d7a-36fe-4832-b1b1-0c984b255201",
   "metadata": {},
   "outputs": [
    {
     "name": "stdout",
     "output_type": "stream",
     "text": [
      "[master (root-commit) bbff498] Primer commit\n",
      " 12 files changed, 411 insertions(+)\n",
      " create mode 100644 .ipynb_checkpoints/practica-checkpoint.ipynb\n",
      " create mode 100755 .ipynb_checkpoints/q-checkpoint\n",
      " create mode 100755 .ipynb_checkpoints/run_gpu-checkpoint.sh\n",
      " create mode 100755 a.out\n",
      " create mode 100755 gpu_practice\n",
      " create mode 100644 lab/.ipynb_checkpoints/gpu_practice-checkpoint.cpp\n",
      " create mode 100644 lab/gpu_practice.cpp\n",
      " create mode 100644 practica.ipynb\n",
      " create mode 100755 q\n",
      " create mode 100755 run_gpu.sh\n",
      " create mode 100644 src/.ipynb_checkpoints/gpu_practice-checkpoint.cpp\n",
      " create mode 100644 src/gpu_practice.cpp\n"
     ]
    }
   ],
   "source": [
    "!git add .\n",
    "!git commit -m \"Primer commit\""
   ]
  },
  {
   "cell_type": "code",
   "execution_count": 15,
   "id": "bd8bcf49-174e-4d6e-860d-7c2e54331311",
   "metadata": {},
   "outputs": [],
   "source": [
    "!git remote add origin https://github.com/namaya-nana/proyectoOneApi.git"
   ]
  },
  {
   "cell_type": "code",
   "execution_count": null,
   "id": "86ed2315-5107-402e-aa67-66cb751e4300",
   "metadata": {},
   "outputs": [
    {
     "name": "stdout",
     "output_type": "stream",
     "text": [
      "Username for 'https://github.com': "
     ]
    }
   ],
   "source": [
    "!git push -u origin master"
   ]
  },
  {
   "cell_type": "code",
   "execution_count": null,
   "id": "21e99592-3140-4264-9348-90de49da98a6",
   "metadata": {},
   "outputs": [],
   "source": []
  }
 ],
 "metadata": {
  "kernelspec": {
   "display_name": "OpenVINO",
   "language": "python",
   "name": "openvino"
  },
  "language_info": {
   "codemirror_mode": {
    "name": "ipython",
    "version": 3
   },
   "file_extension": ".py",
   "mimetype": "text/x-python",
   "name": "python",
   "nbconvert_exporter": "python",
   "pygments_lexer": "ipython3",
   "version": "3.10.15"
  }
 },
 "nbformat": 4,
 "nbformat_minor": 5
}
